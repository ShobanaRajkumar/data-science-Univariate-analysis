{
 "cells": [
  {
   "cell_type": "code",
   "execution_count": 1,
   "id": "189afcbf",
   "metadata": {},
   "outputs": [],
   "source": [
    "import pandas as pd"
   ]
  },
  {
   "cell_type": "code",
   "execution_count": 2,
   "id": "dbf4efa7",
   "metadata": {},
   "outputs": [
    {
     "ename": "IndentationError",
     "evalue": "unindent does not match any outer indentation level (Univariate.py, line 13)",
     "output_type": "error",
     "traceback": [
      "Traceback \u001b[1;36m(most recent call last)\u001b[0m:\n",
      "\u001b[0m  File \u001b[0;32mC:\\python\\envs\\aiml\\lib\\site-packages\\IPython\\core\\interactiveshell.py:3508\u001b[0m in \u001b[0;35mrun_code\u001b[0m\n    exec(code_obj, self.user_global_ns, self.user_ns)\u001b[0m\n",
      "\u001b[1;36m  Cell \u001b[1;32mIn[2], line 1\u001b[1;36m\n\u001b[1;33m    from Univariate import Univariate\u001b[1;36m\n",
      "\u001b[1;36m  File \u001b[1;32mD:\\Python\\datascience-univariate analysis QuanQual\\Univariate.py:13\u001b[1;36m\u001b[0m\n\u001b[1;33m    return quanqual\u001b[0m\n\u001b[1;37m                   ^\u001b[0m\n\u001b[1;31mIndentationError\u001b[0m\u001b[1;31m:\u001b[0m unindent does not match any outer indentation level\n"
     ]
    }
   ],
   "source": [
    "from Univariate import Univariate"
   ]
  },
  {
   "cell_type": "code",
   "execution_count": 3,
   "id": "4ff7449b",
   "metadata": {},
   "outputs": [],
   "source": [
    "dataset=pd.read_csv(\"Placement.csv\")"
   ]
  },
  {
   "cell_type": "code",
   "execution_count": 4,
   "id": "f98a0ab8",
   "metadata": {},
   "outputs": [
    {
     "data": {
      "text/html": [
       "<div>\n",
       "<style scoped>\n",
       "    .dataframe tbody tr th:only-of-type {\n",
       "        vertical-align: middle;\n",
       "    }\n",
       "\n",
       "    .dataframe tbody tr th {\n",
       "        vertical-align: top;\n",
       "    }\n",
       "\n",
       "    .dataframe thead th {\n",
       "        text-align: right;\n",
       "    }\n",
       "</style>\n",
       "<table border=\"1\" class=\"dataframe\">\n",
       "  <thead>\n",
       "    <tr style=\"text-align: right;\">\n",
       "      <th></th>\n",
       "      <th>sl_no</th>\n",
       "      <th>gender</th>\n",
       "      <th>ssc_p</th>\n",
       "      <th>ssc_b</th>\n",
       "      <th>hsc_p</th>\n",
       "      <th>hsc_b</th>\n",
       "      <th>hsc_s</th>\n",
       "      <th>degree_p</th>\n",
       "      <th>degree_t</th>\n",
       "      <th>workex</th>\n",
       "      <th>etest_p</th>\n",
       "      <th>specialisation</th>\n",
       "      <th>mba_p</th>\n",
       "      <th>status</th>\n",
       "      <th>salary</th>\n",
       "    </tr>\n",
       "  </thead>\n",
       "  <tbody>\n",
       "    <tr>\n",
       "      <th>0</th>\n",
       "      <td>1</td>\n",
       "      <td>M</td>\n",
       "      <td>67.00</td>\n",
       "      <td>Others</td>\n",
       "      <td>91.00</td>\n",
       "      <td>Others</td>\n",
       "      <td>Commerce</td>\n",
       "      <td>58.00</td>\n",
       "      <td>Sci&amp;Tech</td>\n",
       "      <td>No</td>\n",
       "      <td>55.0</td>\n",
       "      <td>Mkt&amp;HR</td>\n",
       "      <td>58.80</td>\n",
       "      <td>Placed</td>\n",
       "      <td>270000.0</td>\n",
       "    </tr>\n",
       "    <tr>\n",
       "      <th>1</th>\n",
       "      <td>2</td>\n",
       "      <td>M</td>\n",
       "      <td>79.33</td>\n",
       "      <td>Central</td>\n",
       "      <td>78.33</td>\n",
       "      <td>Others</td>\n",
       "      <td>Science</td>\n",
       "      <td>77.48</td>\n",
       "      <td>Sci&amp;Tech</td>\n",
       "      <td>Yes</td>\n",
       "      <td>86.5</td>\n",
       "      <td>Mkt&amp;Fin</td>\n",
       "      <td>66.28</td>\n",
       "      <td>Placed</td>\n",
       "      <td>200000.0</td>\n",
       "    </tr>\n",
       "    <tr>\n",
       "      <th>2</th>\n",
       "      <td>3</td>\n",
       "      <td>M</td>\n",
       "      <td>65.00</td>\n",
       "      <td>Central</td>\n",
       "      <td>68.00</td>\n",
       "      <td>Central</td>\n",
       "      <td>Arts</td>\n",
       "      <td>64.00</td>\n",
       "      <td>Comm&amp;Mgmt</td>\n",
       "      <td>No</td>\n",
       "      <td>75.0</td>\n",
       "      <td>Mkt&amp;Fin</td>\n",
       "      <td>57.80</td>\n",
       "      <td>Placed</td>\n",
       "      <td>250000.0</td>\n",
       "    </tr>\n",
       "    <tr>\n",
       "      <th>3</th>\n",
       "      <td>4</td>\n",
       "      <td>M</td>\n",
       "      <td>56.00</td>\n",
       "      <td>Central</td>\n",
       "      <td>52.00</td>\n",
       "      <td>Central</td>\n",
       "      <td>Science</td>\n",
       "      <td>52.00</td>\n",
       "      <td>Sci&amp;Tech</td>\n",
       "      <td>No</td>\n",
       "      <td>66.0</td>\n",
       "      <td>Mkt&amp;HR</td>\n",
       "      <td>59.43</td>\n",
       "      <td>Not Placed</td>\n",
       "      <td>NaN</td>\n",
       "    </tr>\n",
       "    <tr>\n",
       "      <th>4</th>\n",
       "      <td>5</td>\n",
       "      <td>M</td>\n",
       "      <td>85.80</td>\n",
       "      <td>Central</td>\n",
       "      <td>73.60</td>\n",
       "      <td>Central</td>\n",
       "      <td>Commerce</td>\n",
       "      <td>73.30</td>\n",
       "      <td>Comm&amp;Mgmt</td>\n",
       "      <td>No</td>\n",
       "      <td>96.8</td>\n",
       "      <td>Mkt&amp;Fin</td>\n",
       "      <td>55.50</td>\n",
       "      <td>Placed</td>\n",
       "      <td>425000.0</td>\n",
       "    </tr>\n",
       "    <tr>\n",
       "      <th>...</th>\n",
       "      <td>...</td>\n",
       "      <td>...</td>\n",
       "      <td>...</td>\n",
       "      <td>...</td>\n",
       "      <td>...</td>\n",
       "      <td>...</td>\n",
       "      <td>...</td>\n",
       "      <td>...</td>\n",
       "      <td>...</td>\n",
       "      <td>...</td>\n",
       "      <td>...</td>\n",
       "      <td>...</td>\n",
       "      <td>...</td>\n",
       "      <td>...</td>\n",
       "      <td>...</td>\n",
       "    </tr>\n",
       "    <tr>\n",
       "      <th>210</th>\n",
       "      <td>211</td>\n",
       "      <td>M</td>\n",
       "      <td>80.60</td>\n",
       "      <td>Others</td>\n",
       "      <td>82.00</td>\n",
       "      <td>Others</td>\n",
       "      <td>Commerce</td>\n",
       "      <td>77.60</td>\n",
       "      <td>Comm&amp;Mgmt</td>\n",
       "      <td>No</td>\n",
       "      <td>91.0</td>\n",
       "      <td>Mkt&amp;Fin</td>\n",
       "      <td>74.49</td>\n",
       "      <td>Placed</td>\n",
       "      <td>400000.0</td>\n",
       "    </tr>\n",
       "    <tr>\n",
       "      <th>211</th>\n",
       "      <td>212</td>\n",
       "      <td>M</td>\n",
       "      <td>58.00</td>\n",
       "      <td>Others</td>\n",
       "      <td>60.00</td>\n",
       "      <td>Others</td>\n",
       "      <td>Science</td>\n",
       "      <td>72.00</td>\n",
       "      <td>Sci&amp;Tech</td>\n",
       "      <td>No</td>\n",
       "      <td>74.0</td>\n",
       "      <td>Mkt&amp;Fin</td>\n",
       "      <td>53.62</td>\n",
       "      <td>Placed</td>\n",
       "      <td>275000.0</td>\n",
       "    </tr>\n",
       "    <tr>\n",
       "      <th>212</th>\n",
       "      <td>213</td>\n",
       "      <td>M</td>\n",
       "      <td>67.00</td>\n",
       "      <td>Others</td>\n",
       "      <td>67.00</td>\n",
       "      <td>Others</td>\n",
       "      <td>Commerce</td>\n",
       "      <td>73.00</td>\n",
       "      <td>Comm&amp;Mgmt</td>\n",
       "      <td>Yes</td>\n",
       "      <td>59.0</td>\n",
       "      <td>Mkt&amp;Fin</td>\n",
       "      <td>69.72</td>\n",
       "      <td>Placed</td>\n",
       "      <td>295000.0</td>\n",
       "    </tr>\n",
       "    <tr>\n",
       "      <th>213</th>\n",
       "      <td>214</td>\n",
       "      <td>F</td>\n",
       "      <td>74.00</td>\n",
       "      <td>Others</td>\n",
       "      <td>66.00</td>\n",
       "      <td>Others</td>\n",
       "      <td>Commerce</td>\n",
       "      <td>58.00</td>\n",
       "      <td>Comm&amp;Mgmt</td>\n",
       "      <td>No</td>\n",
       "      <td>70.0</td>\n",
       "      <td>Mkt&amp;HR</td>\n",
       "      <td>60.23</td>\n",
       "      <td>Placed</td>\n",
       "      <td>204000.0</td>\n",
       "    </tr>\n",
       "    <tr>\n",
       "      <th>214</th>\n",
       "      <td>215</td>\n",
       "      <td>M</td>\n",
       "      <td>62.00</td>\n",
       "      <td>Central</td>\n",
       "      <td>58.00</td>\n",
       "      <td>Others</td>\n",
       "      <td>Science</td>\n",
       "      <td>53.00</td>\n",
       "      <td>Comm&amp;Mgmt</td>\n",
       "      <td>No</td>\n",
       "      <td>89.0</td>\n",
       "      <td>Mkt&amp;HR</td>\n",
       "      <td>60.22</td>\n",
       "      <td>Not Placed</td>\n",
       "      <td>NaN</td>\n",
       "    </tr>\n",
       "  </tbody>\n",
       "</table>\n",
       "<p>215 rows × 15 columns</p>\n",
       "</div>"
      ],
      "text/plain": [
       "     sl_no gender  ssc_p    ssc_b  hsc_p    hsc_b     hsc_s  degree_p  \\\n",
       "0        1      M  67.00   Others  91.00   Others  Commerce     58.00   \n",
       "1        2      M  79.33  Central  78.33   Others   Science     77.48   \n",
       "2        3      M  65.00  Central  68.00  Central      Arts     64.00   \n",
       "3        4      M  56.00  Central  52.00  Central   Science     52.00   \n",
       "4        5      M  85.80  Central  73.60  Central  Commerce     73.30   \n",
       "..     ...    ...    ...      ...    ...      ...       ...       ...   \n",
       "210    211      M  80.60   Others  82.00   Others  Commerce     77.60   \n",
       "211    212      M  58.00   Others  60.00   Others   Science     72.00   \n",
       "212    213      M  67.00   Others  67.00   Others  Commerce     73.00   \n",
       "213    214      F  74.00   Others  66.00   Others  Commerce     58.00   \n",
       "214    215      M  62.00  Central  58.00   Others   Science     53.00   \n",
       "\n",
       "      degree_t workex  etest_p specialisation  mba_p      status    salary  \n",
       "0     Sci&Tech     No     55.0         Mkt&HR  58.80      Placed  270000.0  \n",
       "1     Sci&Tech    Yes     86.5        Mkt&Fin  66.28      Placed  200000.0  \n",
       "2    Comm&Mgmt     No     75.0        Mkt&Fin  57.80      Placed  250000.0  \n",
       "3     Sci&Tech     No     66.0         Mkt&HR  59.43  Not Placed       NaN  \n",
       "4    Comm&Mgmt     No     96.8        Mkt&Fin  55.50      Placed  425000.0  \n",
       "..         ...    ...      ...            ...    ...         ...       ...  \n",
       "210  Comm&Mgmt     No     91.0        Mkt&Fin  74.49      Placed  400000.0  \n",
       "211   Sci&Tech     No     74.0        Mkt&Fin  53.62      Placed  275000.0  \n",
       "212  Comm&Mgmt    Yes     59.0        Mkt&Fin  69.72      Placed  295000.0  \n",
       "213  Comm&Mgmt     No     70.0         Mkt&HR  60.23      Placed  204000.0  \n",
       "214  Comm&Mgmt     No     89.0         Mkt&HR  60.22  Not Placed       NaN  \n",
       "\n",
       "[215 rows x 15 columns]"
      ]
     },
     "execution_count": 4,
     "metadata": {},
     "output_type": "execute_result"
    }
   ],
   "source": [
    "dataset"
   ]
  },
  {
   "cell_type": "code",
   "execution_count": 5,
   "id": "612fe9a1",
   "metadata": {},
   "outputs": [
    {
     "ename": "NameError",
     "evalue": "name 'Univariate' is not defined",
     "output_type": "error",
     "traceback": [
      "\u001b[1;31m---------------------------------------------------------------------------\u001b[0m",
      "\u001b[1;31mNameError\u001b[0m                                 Traceback (most recent call last)",
      "Cell \u001b[1;32mIn[5], line 1\u001b[0m\n\u001b[1;32m----> 1\u001b[0m quan,qual\u001b[38;5;241m=\u001b[39m\u001b[43mUnivariate\u001b[49m\u001b[38;5;241m.\u001b[39mquanqual(dataset)\n",
      "\u001b[1;31mNameError\u001b[0m: name 'Univariate' is not defined"
     ]
    }
   ],
   "source": [
    "quan,qual=Univariate.quanqual(dataset)"
   ]
  },
  {
   "cell_type": "code",
   "execution_count": null,
   "id": "f513847a",
   "metadata": {},
   "outputs": [],
   "source": [
    "quan"
   ]
  },
  {
   "cell_type": "code",
   "execution_count": null,
   "id": "b1165f14",
   "metadata": {},
   "outputs": [],
   "source": [
    "qual"
   ]
  },
  {
   "cell_type": "code",
   "execution_count": null,
   "id": "ee4ea804-3204-41e4-a076-4fe5d028eaab",
   "metadata": {},
   "outputs": [],
   "source": []
  },
  {
   "cell_type": "code",
   "execution_count": 6,
   "id": "2721b58f",
   "metadata": {},
   "outputs": [],
   "source": [
    "dataset=pd.DataFrame(dataset)"
   ]
  },
  {
   "cell_type": "code",
   "execution_count": 7,
   "id": "5f9e6b1e",
   "metadata": {},
   "outputs": [],
   "source": [
    "def calculate_statistics(column):\n",
    "    Q1=dataset[column].quantile(0.25)\n",
    "    Q3=dataset[column].quantile(0.75)\n",
    "    IQR=Q3-Q1\n",
    "    lower_bound=Q1-1.5*IQR\n",
    "    upper_bound=Q3+1.5*IQR\n",
    "    min_value=dataset[column].min()\n",
    "    max_value=dataset[column].max()\n",
    "    return pd.Series({\n",
    "        'Q1:25%':Q1,\n",
    "        'Q3:75%':Q3,\n",
    "        '1.5rule':1.5*IQR,\n",
    "        'lesser':lower_bound,\n",
    "        'Greater':upper_bound,\n",
    "        'Min':min_value,\n",
    "        'Max':max_value\n",
    "    })"
   ]
  },
  {
   "cell_type": "code",
   "execution_count": 8,
   "id": "4e390059",
   "metadata": {},
   "outputs": [],
   "source": [
    "columns_to_describe=['sl_no','ssc_p','hsc_p','degree_p','etest_p','mba_p','salary']"
   ]
  },
  {
   "cell_type": "code",
   "execution_count": 9,
   "id": "12a8b7d2",
   "metadata": {},
   "outputs": [],
   "source": [
    "descriptive_stats=pd.DataFrame({col:calculate_statistics(col) for col in columns_to_describe})"
   ]
  },
  {
   "cell_type": "code",
   "execution_count": 10,
   "id": "0cf186fb",
   "metadata": {},
   "outputs": [
    {
     "name": "stdout",
     "output_type": "stream",
     "text": [
      "         sl_no  ssc_p  hsc_p  degree_p  etest_p   mba_p    salary\n",
      "Q1:25%    54.5  60.60  60.90      61.0    60.00  57.945  240000.0\n",
      "Q3:75%   161.5  75.70  73.00      72.0    83.50  66.255  300000.0\n",
      "1.5rule  160.5  22.65  18.15      16.5    35.25  12.465   90000.0\n",
      "lesser  -106.0  37.95  42.75      44.5    24.75  45.480  150000.0\n",
      "Greater  322.0  98.35  91.15      88.5   118.75  78.720  390000.0\n",
      "Min        1.0  40.89  37.00      50.0    50.00  51.210  200000.0\n",
      "Max      215.0  89.40  97.70      91.0    98.00  77.890  940000.0\n"
     ]
    }
   ],
   "source": [
    "print(descriptive_stats)"
   ]
  },
  {
   "cell_type": "code",
   "execution_count": 11,
   "id": "f822e659",
   "metadata": {},
   "outputs": [
    {
     "data": {
      "text/plain": [
       "True"
      ]
     },
     "execution_count": 11,
     "metadata": {},
     "output_type": "execute_result"
    }
   ],
   "source": [
    "descriptive_stats[\"hsc_p\"][\"Min\"]<descriptive_stats[\"hsc_p\"][\"lesser\"]"
   ]
  },
  {
   "cell_type": "code",
   "execution_count": 12,
   "id": "b2ab6878",
   "metadata": {},
   "outputs": [
    {
     "ename": "NameError",
     "evalue": "name 'quan' is not defined",
     "output_type": "error",
     "traceback": [
      "\u001b[1;31m---------------------------------------------------------------------------\u001b[0m",
      "\u001b[1;31mNameError\u001b[0m                                 Traceback (most recent call last)",
      "Cell \u001b[1;32mIn[12], line 3\u001b[0m\n\u001b[0;32m      1\u001b[0m lesser\u001b[38;5;241m=\u001b[39m[]\n\u001b[0;32m      2\u001b[0m Greater\u001b[38;5;241m=\u001b[39m[]\n\u001b[1;32m----> 3\u001b[0m \u001b[38;5;28;01mfor\u001b[39;00m columnName \u001b[38;5;129;01min\u001b[39;00m \u001b[43mquan\u001b[49m:\n\u001b[0;32m      4\u001b[0m     \u001b[38;5;28;01mif\u001b[39;00m(descriptive_stats[columnName][\u001b[38;5;124m\"\u001b[39m\u001b[38;5;124mMin\u001b[39m\u001b[38;5;124m\"\u001b[39m]\u001b[38;5;241m<\u001b[39mdescriptive_stats[columnName][\u001b[38;5;124m\"\u001b[39m\u001b[38;5;124mlesser\u001b[39m\u001b[38;5;124m\"\u001b[39m]):\n\u001b[0;32m      5\u001b[0m         lesser\u001b[38;5;241m.\u001b[39mappend(columnName)\n",
      "\u001b[1;31mNameError\u001b[0m: name 'quan' is not defined"
     ]
    }
   ],
   "source": [
    "lesser=[]\n",
    "Greater=[]\n",
    "for columnName in quan:\n",
    "    if(descriptive_stats[columnName][\"Min\"]<descriptive_stats[columnName][\"lesser\"]):\n",
    "        lesser.append(columnName)\n",
    "    if(descriptive_stats[columnName][\"Max\"]>descriptive_stats[columnName][\"Greater\"]):\n",
    "        Greater.append(columnName)"
   ]
  },
  {
   "cell_type": "code",
   "execution_count": 13,
   "id": "2d83721b",
   "metadata": {},
   "outputs": [
    {
     "data": {
      "text/plain": [
       "[]"
      ]
     },
     "execution_count": 13,
     "metadata": {},
     "output_type": "execute_result"
    }
   ],
   "source": [
    "lesser"
   ]
  },
  {
   "cell_type": "code",
   "execution_count": 14,
   "id": "c2404a3a",
   "metadata": {},
   "outputs": [
    {
     "data": {
      "text/plain": [
       "[]"
      ]
     },
     "execution_count": 14,
     "metadata": {},
     "output_type": "execute_result"
    }
   ],
   "source": [
    "Greater"
   ]
  },
  {
   "cell_type": "code",
   "execution_count": 15,
   "id": "d6467db5",
   "metadata": {},
   "outputs": [],
   "source": [
    "import numpy as np"
   ]
  },
  {
   "cell_type": "code",
   "execution_count": 16,
   "id": "a44cae2e",
   "metadata": {},
   "outputs": [],
   "source": [
    "for columnName in lesser:\n",
    "    dataset[columnName][dataset[columnName]<descriptive_stats[columnName][\"lesser\"]]\n",
    "for columnName in Greater:\n",
    "    dataset[columnName][dataset[columnName]>descriptive_stats[columnName][\"Greater\"]]"
   ]
  },
  {
   "cell_type": "code",
   "execution_count": 17,
   "id": "c682679c",
   "metadata": {},
   "outputs": [
    {
     "ename": "NameError",
     "evalue": "name 'quan' is not defined",
     "output_type": "error",
     "traceback": [
      "\u001b[1;31m---------------------------------------------------------------------------\u001b[0m",
      "\u001b[1;31mNameError\u001b[0m                                 Traceback (most recent call last)",
      "Cell \u001b[1;32mIn[17], line 1\u001b[0m\n\u001b[1;32m----> 1\u001b[0m descriptive_stats\u001b[38;5;241m=\u001b[39mpd\u001b[38;5;241m.\u001b[39mDataFrame(index\u001b[38;5;241m=\u001b[39m[\u001b[38;5;124m\"\u001b[39m\u001b[38;5;124mMean\u001b[39m\u001b[38;5;124m\"\u001b[39m,\u001b[38;5;124m\"\u001b[39m\u001b[38;5;124mMedian\u001b[39m\u001b[38;5;124m\"\u001b[39m,\u001b[38;5;124m\"\u001b[39m\u001b[38;5;124mMode\u001b[39m\u001b[38;5;124m\"\u001b[39m,\u001b[38;5;124m\"\u001b[39m\u001b[38;5;124mQ1:25\u001b[39m\u001b[38;5;124m%\u001b[39m\u001b[38;5;124m\"\u001b[39m,\u001b[38;5;124m\"\u001b[39m\u001b[38;5;124mQ2:50\u001b[39m\u001b[38;5;124m%\u001b[39m\u001b[38;5;124m\"\u001b[39m,\u001b[38;5;124m\"\u001b[39m\u001b[38;5;124mQ3:75\u001b[39m\u001b[38;5;124m%\u001b[39m\u001b[38;5;124m\"\u001b[39m,\u001b[38;5;124m\"\u001b[39m\u001b[38;5;124m99\u001b[39m\u001b[38;5;124m%\u001b[39m\u001b[38;5;124m\"\u001b[39m,\u001b[38;5;124m\"\u001b[39m\u001b[38;5;124mQ4:100\u001b[39m\u001b[38;5;124m%\u001b[39m\u001b[38;5;124m\"\u001b[39m],columns\u001b[38;5;241m=\u001b[39m\u001b[43mquan\u001b[49m)\n\u001b[0;32m      2\u001b[0m \u001b[38;5;28;01mfor\u001b[39;00m columnName \u001b[38;5;129;01min\u001b[39;00m quan:\n\u001b[0;32m      3\u001b[0m     descriptive_stats[columnName][\u001b[38;5;124m\"\u001b[39m\u001b[38;5;124mMean\u001b[39m\u001b[38;5;124m\"\u001b[39m]\u001b[38;5;241m=\u001b[39mdataset[columnName]\u001b[38;5;241m.\u001b[39mmean()\n",
      "\u001b[1;31mNameError\u001b[0m: name 'quan' is not defined"
     ]
    }
   ],
   "source": [
    "descriptive_stats=pd.DataFrame(index=[\"Mean\",\"Median\",\"Mode\",\"Q1:25%\",\"Q2:50%\",\"Q3:75%\",\"99%\",\"Q4:100%\"],columns=quan)\n",
    "for columnName in quan:\n",
    "    descriptive_stats[columnName][\"Mean\"]=dataset[columnName].mean()\n",
    "    descriptive_stats[columnName][\"Median\"]=dataset[columnName].median()\n",
    "    descriptive_stats[columnName][\"Mode\"]=dataset[columnName].mode()[0]\n",
    "    descriptive_stats[columnName][\"Q1:25%\"]=dataset.describe()[columnName][\"25%\"]\n",
    "    descriptive_stats[columnName][\"Q2:50%\"]=dataset.describe()[columnName][\"50%\"]\n",
    "    descriptive_stats[columnName][\"Q3:75%\"]=dataset.describe()[columnName][\"75%\"]\n",
    "    descriptive_stats[columnName][\"99%\"]=np.percentile(dataset[columnName],99)\n",
    "    descriptive_stats[columnName][\"Q4:100%\"]=dataset.describe()[columnName][\"max\"]\n",
    "def calculate_statistics(column):\n",
    "    Q1=dataset[column].quantile(0.25)\n",
    "    Q3=dataset[column].quantile(0.75)\n",
    "    IQR=Q3-Q1\n",
    "    lower_bound=Q1-1.5*IQR\n",
    "    upper_bound=Q3+1.5*IQR\n",
    "    min_value=dataset[column].min()\n",
    "    max_value=dataset[column].max()\n",
    "    return pd.Series({\n",
    "        'Q1:25%':Q1,\n",
    "        'Q3:75%':Q3,\n",
    "        '1.5rule':1.5*IQR,\n",
    "        'lesser':lower_bound,\n",
    "        'Greater':upper_bound,\n",
    "        'Min':min_value,\n",
    "        'Max':max_value\n",
    "        })"
   ]
  },
  {
   "cell_type": "code",
   "execution_count": 18,
   "id": "e950f701",
   "metadata": {},
   "outputs": [
    {
     "data": {
      "text/html": [
       "<div>\n",
       "<style scoped>\n",
       "    .dataframe tbody tr th:only-of-type {\n",
       "        vertical-align: middle;\n",
       "    }\n",
       "\n",
       "    .dataframe tbody tr th {\n",
       "        vertical-align: top;\n",
       "    }\n",
       "\n",
       "    .dataframe thead th {\n",
       "        text-align: right;\n",
       "    }\n",
       "</style>\n",
       "<table border=\"1\" class=\"dataframe\">\n",
       "  <thead>\n",
       "    <tr style=\"text-align: right;\">\n",
       "      <th></th>\n",
       "      <th>sl_no</th>\n",
       "      <th>ssc_p</th>\n",
       "      <th>hsc_p</th>\n",
       "      <th>degree_p</th>\n",
       "      <th>etest_p</th>\n",
       "      <th>mba_p</th>\n",
       "      <th>salary</th>\n",
       "    </tr>\n",
       "  </thead>\n",
       "  <tbody>\n",
       "    <tr>\n",
       "      <th>Q1:25%</th>\n",
       "      <td>54.5</td>\n",
       "      <td>60.60</td>\n",
       "      <td>60.90</td>\n",
       "      <td>61.0</td>\n",
       "      <td>60.00</td>\n",
       "      <td>57.945</td>\n",
       "      <td>240000.0</td>\n",
       "    </tr>\n",
       "    <tr>\n",
       "      <th>Q3:75%</th>\n",
       "      <td>161.5</td>\n",
       "      <td>75.70</td>\n",
       "      <td>73.00</td>\n",
       "      <td>72.0</td>\n",
       "      <td>83.50</td>\n",
       "      <td>66.255</td>\n",
       "      <td>300000.0</td>\n",
       "    </tr>\n",
       "    <tr>\n",
       "      <th>1.5rule</th>\n",
       "      <td>160.5</td>\n",
       "      <td>22.65</td>\n",
       "      <td>18.15</td>\n",
       "      <td>16.5</td>\n",
       "      <td>35.25</td>\n",
       "      <td>12.465</td>\n",
       "      <td>90000.0</td>\n",
       "    </tr>\n",
       "    <tr>\n",
       "      <th>lesser</th>\n",
       "      <td>-106.0</td>\n",
       "      <td>37.95</td>\n",
       "      <td>42.75</td>\n",
       "      <td>44.5</td>\n",
       "      <td>24.75</td>\n",
       "      <td>45.480</td>\n",
       "      <td>150000.0</td>\n",
       "    </tr>\n",
       "    <tr>\n",
       "      <th>Greater</th>\n",
       "      <td>322.0</td>\n",
       "      <td>98.35</td>\n",
       "      <td>91.15</td>\n",
       "      <td>88.5</td>\n",
       "      <td>118.75</td>\n",
       "      <td>78.720</td>\n",
       "      <td>390000.0</td>\n",
       "    </tr>\n",
       "    <tr>\n",
       "      <th>Min</th>\n",
       "      <td>1.0</td>\n",
       "      <td>40.89</td>\n",
       "      <td>37.00</td>\n",
       "      <td>50.0</td>\n",
       "      <td>50.00</td>\n",
       "      <td>51.210</td>\n",
       "      <td>200000.0</td>\n",
       "    </tr>\n",
       "    <tr>\n",
       "      <th>Max</th>\n",
       "      <td>215.0</td>\n",
       "      <td>89.40</td>\n",
       "      <td>97.70</td>\n",
       "      <td>91.0</td>\n",
       "      <td>98.00</td>\n",
       "      <td>77.890</td>\n",
       "      <td>940000.0</td>\n",
       "    </tr>\n",
       "  </tbody>\n",
       "</table>\n",
       "</div>"
      ],
      "text/plain": [
       "         sl_no  ssc_p  hsc_p  degree_p  etest_p   mba_p    salary\n",
       "Q1:25%    54.5  60.60  60.90      61.0    60.00  57.945  240000.0\n",
       "Q3:75%   161.5  75.70  73.00      72.0    83.50  66.255  300000.0\n",
       "1.5rule  160.5  22.65  18.15      16.5    35.25  12.465   90000.0\n",
       "lesser  -106.0  37.95  42.75      44.5    24.75  45.480  150000.0\n",
       "Greater  322.0  98.35  91.15      88.5   118.75  78.720  390000.0\n",
       "Min        1.0  40.89  37.00      50.0    50.00  51.210  200000.0\n",
       "Max      215.0  89.40  97.70      91.0    98.00  77.890  940000.0"
      ]
     },
     "execution_count": 18,
     "metadata": {},
     "output_type": "execute_result"
    }
   ],
   "source": [
    "descriptive_stats"
   ]
  },
  {
   "cell_type": "code",
   "execution_count": 19,
   "id": "30d8cb2c",
   "metadata": {},
   "outputs": [],
   "source": [
    "def calculate_statistics(column):\n",
    "    Q1=dataset[column].quantile(0.25)\n",
    "    Q3=dataset[column].quantile(0.75)\n",
    "    IQR=Q3-Q1\n",
    "    lower_bound=Q1-1.5*IQR\n",
    "    upper_bound=Q3+1.5*IQR\n",
    "    min_value=dataset[column].min()\n",
    "    max_value=dataset[column].max()\n",
    "    return pd.Series({\n",
    "        'Q1:25%':Q1,\n",
    "        'Q3:75%':Q3,\n",
    "        '1.5rule':1.5*IQR,\n",
    "        'lesser':lower_bound,\n",
    "        'Greater':upper_bound,\n",
    "        'Min':min_value,\n",
    "        'Max':max_value\n",
    "        })"
   ]
  },
  {
   "cell_type": "code",
   "execution_count": 20,
   "id": "0997df8d",
   "metadata": {},
   "outputs": [],
   "source": [
    "columns_to_describe=['sl_no','ssc_p','hsc_p','degree_p','etest_p','mba_p','salary']"
   ]
  },
  {
   "cell_type": "code",
   "execution_count": 21,
   "id": "5cdf986d",
   "metadata": {},
   "outputs": [],
   "source": [
    "descriptive_stats=pd.DataFrame({col:calculate_statistics(col) for col in columns_to_describe})"
   ]
  },
  {
   "cell_type": "code",
   "execution_count": 22,
   "id": "108efab1",
   "metadata": {},
   "outputs": [
    {
     "name": "stdout",
     "output_type": "stream",
     "text": [
      "         sl_no  ssc_p  hsc_p  degree_p  etest_p   mba_p    salary\n",
      "Q1:25%    54.5  60.60  60.90      61.0    60.00  57.945  240000.0\n",
      "Q3:75%   161.5  75.70  73.00      72.0    83.50  66.255  300000.0\n",
      "1.5rule  160.5  22.65  18.15      16.5    35.25  12.465   90000.0\n",
      "lesser  -106.0  37.95  42.75      44.5    24.75  45.480  150000.0\n",
      "Greater  322.0  98.35  91.15      88.5   118.75  78.720  390000.0\n",
      "Min        1.0  40.89  37.00      50.0    50.00  51.210  200000.0\n",
      "Max      215.0  89.40  97.70      91.0    98.00  77.890  940000.0\n"
     ]
    }
   ],
   "source": [
    "print(descriptive_stats)"
   ]
  },
  {
   "cell_type": "code",
   "execution_count": 23,
   "id": "c211358b",
   "metadata": {},
   "outputs": [],
   "source": [
    "lesser=[]\n",
    "Greater=[]\n",
    "for columnName in lesser:\n",
    "    dataset[columnName][dataset[columnName]<descriptive_stats[columnName][\"lesser\"]]\n",
    "for columnName in Greater:\n",
    "    dataset[columnName][dataset[columnName]>descriptive_stats[columnName][\"Greater\"]]"
   ]
  },
  {
   "cell_type": "code",
   "execution_count": 24,
   "id": "3438ef7c",
   "metadata": {},
   "outputs": [
    {
     "data": {
      "text/plain": [
       "[]"
      ]
     },
     "execution_count": 24,
     "metadata": {},
     "output_type": "execute_result"
    }
   ],
   "source": [
    "lesser"
   ]
  },
  {
   "cell_type": "code",
   "execution_count": 25,
   "id": "292eb0e2",
   "metadata": {},
   "outputs": [
    {
     "data": {
      "text/plain": [
       "[]"
      ]
     },
     "execution_count": 25,
     "metadata": {},
     "output_type": "execute_result"
    }
   ],
   "source": [
    "Greater"
   ]
  },
  {
   "cell_type": "code",
   "execution_count": 26,
   "id": "67610448",
   "metadata": {
    "scrolled": true
   },
   "outputs": [
    {
     "data": {
      "text/plain": [
       "<bound method Series.sort_index of 62.00    11\n",
       "63.00    10\n",
       "67.00     9\n",
       "52.00     9\n",
       "73.00     9\n",
       "         ..\n",
       "69.70     1\n",
       "80.92     1\n",
       "83.00     1\n",
       "86.50     1\n",
       "80.60     1\n",
       "Name: ssc_p, Length: 103, dtype: int64>"
      ]
     },
     "execution_count": 26,
     "metadata": {},
     "output_type": "execute_result"
    }
   ],
   "source": [
    "dataset[\"ssc_p\"].value_counts().sort_index"
   ]
  },
  {
   "cell_type": "code",
   "execution_count": 27,
   "id": "ae117059-9492-487e-bbca-ded99e3caf11",
   "metadata": {},
   "outputs": [],
   "source": [
    "freqTable=pd.DataFrame(columns=[\"Unique_Values\",\"Frequency\",\"Relative Frequency\",\"Cusum\"])\n"
   ]
  },
  {
   "cell_type": "code",
   "execution_count": 28,
   "id": "4ea12801-5ba7-4758-acd3-04792242cbce",
   "metadata": {},
   "outputs": [
    {
     "data": {
      "text/html": [
       "<div>\n",
       "<style scoped>\n",
       "    .dataframe tbody tr th:only-of-type {\n",
       "        vertical-align: middle;\n",
       "    }\n",
       "\n",
       "    .dataframe tbody tr th {\n",
       "        vertical-align: top;\n",
       "    }\n",
       "\n",
       "    .dataframe thead th {\n",
       "        text-align: right;\n",
       "    }\n",
       "</style>\n",
       "<table border=\"1\" class=\"dataframe\">\n",
       "  <thead>\n",
       "    <tr style=\"text-align: right;\">\n",
       "      <th></th>\n",
       "      <th>Unique_Values</th>\n",
       "      <th>Frequency</th>\n",
       "      <th>Relative Frequency</th>\n",
       "      <th>Cusum</th>\n",
       "    </tr>\n",
       "  </thead>\n",
       "  <tbody>\n",
       "  </tbody>\n",
       "</table>\n",
       "</div>"
      ],
      "text/plain": [
       "Empty DataFrame\n",
       "Columns: [Unique_Values, Frequency, Relative Frequency, Cusum]\n",
       "Index: []"
      ]
     },
     "execution_count": 28,
     "metadata": {},
     "output_type": "execute_result"
    }
   ],
   "source": [
    "freqTable"
   ]
  },
  {
   "cell_type": "code",
   "execution_count": 29,
   "id": "592420fd-2072-40df-b945-27c28a8e71b8",
   "metadata": {},
   "outputs": [],
   "source": [
    "freqTable[\"Unique_Values\"]=dataset[\"ssc_p\"].value_counts().index\n",
    "freqTable[\"Frequency\"]=dataset[\"ssc_p\"].value_counts().values\n",
    "freqTable[\"Relative Frequency\"]=(freqTable[\"Frequency\"]/103)\n",
    "freqTable[\"Cusum\"]=freqTable[\"Relative Frequency\"].cumsum()\n"
   ]
  },
  {
   "cell_type": "code",
   "execution_count": 30,
   "id": "ec144613-d7fc-4fa0-85ae-d4337dd089f9",
   "metadata": {},
   "outputs": [
    {
     "data": {
      "text/html": [
       "<div>\n",
       "<style scoped>\n",
       "    .dataframe tbody tr th:only-of-type {\n",
       "        vertical-align: middle;\n",
       "    }\n",
       "\n",
       "    .dataframe tbody tr th {\n",
       "        vertical-align: top;\n",
       "    }\n",
       "\n",
       "    .dataframe thead th {\n",
       "        text-align: right;\n",
       "    }\n",
       "</style>\n",
       "<table border=\"1\" class=\"dataframe\">\n",
       "  <thead>\n",
       "    <tr style=\"text-align: right;\">\n",
       "      <th></th>\n",
       "      <th>Unique_Values</th>\n",
       "      <th>Frequency</th>\n",
       "      <th>Relative Frequency</th>\n",
       "      <th>Cusum</th>\n",
       "    </tr>\n",
       "  </thead>\n",
       "  <tbody>\n",
       "    <tr>\n",
       "      <th>0</th>\n",
       "      <td>62.00</td>\n",
       "      <td>11</td>\n",
       "      <td>0.106796</td>\n",
       "      <td>0.106796</td>\n",
       "    </tr>\n",
       "    <tr>\n",
       "      <th>1</th>\n",
       "      <td>63.00</td>\n",
       "      <td>10</td>\n",
       "      <td>0.097087</td>\n",
       "      <td>0.203883</td>\n",
       "    </tr>\n",
       "    <tr>\n",
       "      <th>2</th>\n",
       "      <td>67.00</td>\n",
       "      <td>9</td>\n",
       "      <td>0.087379</td>\n",
       "      <td>0.291262</td>\n",
       "    </tr>\n",
       "    <tr>\n",
       "      <th>3</th>\n",
       "      <td>52.00</td>\n",
       "      <td>9</td>\n",
       "      <td>0.087379</td>\n",
       "      <td>0.378641</td>\n",
       "    </tr>\n",
       "    <tr>\n",
       "      <th>4</th>\n",
       "      <td>73.00</td>\n",
       "      <td>9</td>\n",
       "      <td>0.087379</td>\n",
       "      <td>0.466019</td>\n",
       "    </tr>\n",
       "    <tr>\n",
       "      <th>...</th>\n",
       "      <td>...</td>\n",
       "      <td>...</td>\n",
       "      <td>...</td>\n",
       "      <td>...</td>\n",
       "    </tr>\n",
       "    <tr>\n",
       "      <th>98</th>\n",
       "      <td>69.70</td>\n",
       "      <td>1</td>\n",
       "      <td>0.009709</td>\n",
       "      <td>2.048544</td>\n",
       "    </tr>\n",
       "    <tr>\n",
       "      <th>99</th>\n",
       "      <td>80.92</td>\n",
       "      <td>1</td>\n",
       "      <td>0.009709</td>\n",
       "      <td>2.058252</td>\n",
       "    </tr>\n",
       "    <tr>\n",
       "      <th>100</th>\n",
       "      <td>83.00</td>\n",
       "      <td>1</td>\n",
       "      <td>0.009709</td>\n",
       "      <td>2.067961</td>\n",
       "    </tr>\n",
       "    <tr>\n",
       "      <th>101</th>\n",
       "      <td>86.50</td>\n",
       "      <td>1</td>\n",
       "      <td>0.009709</td>\n",
       "      <td>2.077670</td>\n",
       "    </tr>\n",
       "    <tr>\n",
       "      <th>102</th>\n",
       "      <td>80.60</td>\n",
       "      <td>1</td>\n",
       "      <td>0.009709</td>\n",
       "      <td>2.087379</td>\n",
       "    </tr>\n",
       "  </tbody>\n",
       "</table>\n",
       "<p>103 rows × 4 columns</p>\n",
       "</div>"
      ],
      "text/plain": [
       "     Unique_Values  Frequency  Relative Frequency     Cusum\n",
       "0            62.00         11            0.106796  0.106796\n",
       "1            63.00         10            0.097087  0.203883\n",
       "2            67.00          9            0.087379  0.291262\n",
       "3            52.00          9            0.087379  0.378641\n",
       "4            73.00          9            0.087379  0.466019\n",
       "..             ...        ...                 ...       ...\n",
       "98           69.70          1            0.009709  2.048544\n",
       "99           80.92          1            0.009709  2.058252\n",
       "100          83.00          1            0.009709  2.067961\n",
       "101          86.50          1            0.009709  2.077670\n",
       "102          80.60          1            0.009709  2.087379\n",
       "\n",
       "[103 rows x 4 columns]"
      ]
     },
     "execution_count": 30,
     "metadata": {},
     "output_type": "execute_result"
    }
   ],
   "source": [
    "freqTable"
   ]
  },
  {
   "cell_type": "code",
   "execution_count": 31,
   "id": "154a6331-d8a6-4d1e-bd88-cfb6f5d45427",
   "metadata": {},
   "outputs": [],
   "source": [
    "def freqTable(columnName,dataset):\n",
    "    freqTable=pd.DataFrame(columns=[\"Unique_Values\",\"Frequency\",\"Relative Frequency\",\"Cusum\"])\n",
    "    freqTable[\"Unique_Values\"]=dataset[columnName].value_counts().index\n",
    "    freqTable[\"Frequency\"]=dataset[columnName].value_counts().values\n",
    "    freqTable[\"Relative Frequency\"]=(freqTable[\"Frequency\"]/103)\n",
    "    freqTable[\"Cusum\"]=freqTable[\"Relative Frequency\"].cumsum()\n",
    "    return freqTable\n"
   ]
  },
  {
   "cell_type": "code",
   "execution_count": 32,
   "id": "794cf892-dbe9-457d-8c3c-64e7568601a5",
   "metadata": {},
   "outputs": [
    {
     "data": {
      "text/html": [
       "<div>\n",
       "<style scoped>\n",
       "    .dataframe tbody tr th:only-of-type {\n",
       "        vertical-align: middle;\n",
       "    }\n",
       "\n",
       "    .dataframe tbody tr th {\n",
       "        vertical-align: top;\n",
       "    }\n",
       "\n",
       "    .dataframe thead th {\n",
       "        text-align: right;\n",
       "    }\n",
       "</style>\n",
       "<table border=\"1\" class=\"dataframe\">\n",
       "  <thead>\n",
       "    <tr style=\"text-align: right;\">\n",
       "      <th></th>\n",
       "      <th>Unique_Values</th>\n",
       "      <th>Frequency</th>\n",
       "      <th>Relative Frequency</th>\n",
       "      <th>Cusum</th>\n",
       "    </tr>\n",
       "  </thead>\n",
       "  <tbody>\n",
       "    <tr>\n",
       "      <th>0</th>\n",
       "      <td>56.70</td>\n",
       "      <td>3</td>\n",
       "      <td>0.029126</td>\n",
       "      <td>0.029126</td>\n",
       "    </tr>\n",
       "    <tr>\n",
       "      <th>1</th>\n",
       "      <td>66.94</td>\n",
       "      <td>2</td>\n",
       "      <td>0.019417</td>\n",
       "      <td>0.048544</td>\n",
       "    </tr>\n",
       "    <tr>\n",
       "      <th>2</th>\n",
       "      <td>59.47</td>\n",
       "      <td>2</td>\n",
       "      <td>0.019417</td>\n",
       "      <td>0.067961</td>\n",
       "    </tr>\n",
       "    <tr>\n",
       "      <th>3</th>\n",
       "      <td>60.44</td>\n",
       "      <td>2</td>\n",
       "      <td>0.019417</td>\n",
       "      <td>0.087379</td>\n",
       "    </tr>\n",
       "    <tr>\n",
       "      <th>4</th>\n",
       "      <td>68.07</td>\n",
       "      <td>2</td>\n",
       "      <td>0.019417</td>\n",
       "      <td>0.106796</td>\n",
       "    </tr>\n",
       "    <tr>\n",
       "      <th>...</th>\n",
       "      <td>...</td>\n",
       "      <td>...</td>\n",
       "      <td>...</td>\n",
       "      <td>...</td>\n",
       "    </tr>\n",
       "    <tr>\n",
       "      <th>200</th>\n",
       "      <td>67.00</td>\n",
       "      <td>1</td>\n",
       "      <td>0.009709</td>\n",
       "      <td>2.048544</td>\n",
       "    </tr>\n",
       "    <tr>\n",
       "      <th>201</th>\n",
       "      <td>64.27</td>\n",
       "      <td>1</td>\n",
       "      <td>0.009709</td>\n",
       "      <td>2.058252</td>\n",
       "    </tr>\n",
       "    <tr>\n",
       "      <th>202</th>\n",
       "      <td>57.65</td>\n",
       "      <td>1</td>\n",
       "      <td>0.009709</td>\n",
       "      <td>2.067961</td>\n",
       "    </tr>\n",
       "    <tr>\n",
       "      <th>203</th>\n",
       "      <td>59.42</td>\n",
       "      <td>1</td>\n",
       "      <td>0.009709</td>\n",
       "      <td>2.077670</td>\n",
       "    </tr>\n",
       "    <tr>\n",
       "      <th>204</th>\n",
       "      <td>60.22</td>\n",
       "      <td>1</td>\n",
       "      <td>0.009709</td>\n",
       "      <td>2.087379</td>\n",
       "    </tr>\n",
       "  </tbody>\n",
       "</table>\n",
       "<p>205 rows × 4 columns</p>\n",
       "</div>"
      ],
      "text/plain": [
       "     Unique_Values  Frequency  Relative Frequency     Cusum\n",
       "0            56.70          3            0.029126  0.029126\n",
       "1            66.94          2            0.019417  0.048544\n",
       "2            59.47          2            0.019417  0.067961\n",
       "3            60.44          2            0.019417  0.087379\n",
       "4            68.07          2            0.019417  0.106796\n",
       "..             ...        ...                 ...       ...\n",
       "200          67.00          1            0.009709  2.048544\n",
       "201          64.27          1            0.009709  2.058252\n",
       "202          57.65          1            0.009709  2.067961\n",
       "203          59.42          1            0.009709  2.077670\n",
       "204          60.22          1            0.009709  2.087379\n",
       "\n",
       "[205 rows x 4 columns]"
      ]
     },
     "execution_count": 32,
     "metadata": {},
     "output_type": "execute_result"
    }
   ],
   "source": [
    "freqTable(\"mba_p\",dataset)"
   ]
  },
  {
   "cell_type": "code",
   "execution_count": 33,
   "id": "88aa1133-3a3d-48a0-ad67-82dfda039462",
   "metadata": {},
   "outputs": [],
   "source": [
    "def Univariate(dataset,quan):\n",
    "    descriptive_stats=pd.DataFrame(index=[\"Mean\",\"Median\",\"Mode\",\"Q1:25%\",\n",
    "                                          \"Q2:50%\",\"Q3:75%\",\"99%\",\"Q4:100%\",\n",
    "                                          \"IQR\",\"1.5rule\",\"Lesser\",\"Greater\",\n",
    "                                          \"Min\",\"Max\"],columns=quan)\n",
    "    \n",
    "    for columnName in quan:\n",
    "        descriptive_stats[columnName][\"Mean\"]=dataset[columnName].mean()\n",
    "        descriptive_stats[columnName][\"Median\"]=dataset[columnName].median()\n",
    "        descriptive_stats[columnName][\"Mode\"]=dataset[columnName].mode()[0]\n",
    "        descriptive_stats[columnName][\"Q1:25%\"]=dataset.describe()[columnName][\"25%\"]\n",
    "        descriptive_stats[columnName][\"Q2:50%\"]=dataset.describe()[columnName][\"50%\"]\n",
    "        descriptive_stats[columnName][\"Q3:75%\"]=dataset.describe()[columnName][\"75%\"]\n",
    "        descriptive_stats[columnName][\"99%\"]=np.percentile(dataset[columnName],99)\n",
    "        descriptive_stats[columnName][\"Q4:100%\"]=dataset.describe()[columnName][\"max\"]\n",
    "        descriptive_stats[columnName][\"IQR\"]=descriptive_stats[columnName][\"Q3:75%\"]-descriptive_stats[columnName][\"Q1:25%\"]\n",
    "        descriptive_stats[columnName][\"1.5rule\"]=1.5*descriptive_stats[columnName][\"IQR\"]  \n",
    "        descriptive_stats[columnName][\"Lesser\"]=descriptive_stats[columnName][\"Q1:25%\"]-descriptive_stats[columnName][\"1.5rule\"]\n",
    "        descriptive_stats[columnName][\"Greater\"]=descriptive_stats[columnName][\"Q3:75%\"]-descriptive_stats[columnName][\"1.5rule\"]\n",
    "        descriptive_stats[columnName][\"Min\"]=dataset[columnName].min()\n",
    "        descriptive_stats[columnName][\"Max\"]=dataset[columnName].max()\n",
    "    return descriptive_stats"
   ]
  },
  {
   "cell_type": "code",
   "execution_count": 34,
   "id": "01a42c0c-57b8-479b-a747-d657c1450a05",
   "metadata": {
    "scrolled": true
   },
   "outputs": [
    {
     "ename": "NameError",
     "evalue": "name 'quan' is not defined",
     "output_type": "error",
     "traceback": [
      "\u001b[1;31m---------------------------------------------------------------------------\u001b[0m",
      "\u001b[1;31mNameError\u001b[0m                                 Traceback (most recent call last)",
      "Cell \u001b[1;32mIn[34], line 1\u001b[0m\n\u001b[1;32m----> 1\u001b[0m Univariate(dataset,\u001b[43mquan\u001b[49m)\n",
      "\u001b[1;31mNameError\u001b[0m: name 'quan' is not defined"
     ]
    }
   ],
   "source": [
    "Univariate(dataset,quan)"
   ]
  },
  {
   "cell_type": "code",
   "execution_count": 36,
   "id": "71700ee1-c27f-4a8a-841f-bc9e8613332c",
   "metadata": {},
   "outputs": [],
   "source": [
    "def replacementoutlayer_lesser(dataset,lesser):\n",
    "    for columnName in lesser:\n",
    "        dataset[columnName][dataset[columnName]<descriptive_stats[columnName][\"lesser\"]]\n",
    "def replacementoutlayer_greater(dataset,greater):\n",
    "    for columnName in Greater:\n",
    "        dataset[columnName][dataset[columnName]>descriptive_stats[columnName][\"Greater\"]]"
   ]
  },
  {
   "cell_type": "code",
   "execution_count": null,
   "id": "6d5afff6-aed0-4560-b66a-b83515d00823",
   "metadata": {},
   "outputs": [],
   "source": []
  },
  {
   "cell_type": "code",
   "execution_count": null,
   "id": "df2e3159-6c2b-4e44-9f39-2374e7ffc082",
   "metadata": {},
   "outputs": [],
   "source": []
  }
 ],
 "metadata": {
  "kernelspec": {
   "display_name": "Python 3 (ipykernel)",
   "language": "python",
   "name": "python3"
  },
  "language_info": {
   "codemirror_mode": {
    "name": "ipython",
    "version": 3
   },
   "file_extension": ".py",
   "mimetype": "text/x-python",
   "name": "python",
   "nbconvert_exporter": "python",
   "pygments_lexer": "ipython3",
   "version": "3.8.18"
  },
  "widgets": {
   "application/vnd.jupyter.widget-state+json": {
    "state": {},
    "version_major": 2,
    "version_minor": 0
   }
  }
 },
 "nbformat": 4,
 "nbformat_minor": 5
}
